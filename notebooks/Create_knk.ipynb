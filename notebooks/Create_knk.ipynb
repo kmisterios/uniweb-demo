{
 "cells": [
  {
   "cell_type": "code",
   "execution_count": 218,
   "id": "a0d9e202-4ae2-4497-ae7a-8c0a92576a2c",
   "metadata": {},
   "outputs": [],
   "source": [
    "from typing import List, Optional, Dict, Union\n",
    "\n",
    "import pandas as pd\n",
    "import json\n",
    "import numpy as np\n",
    "from dataclasses import dataclass\n",
    "\n",
    "pd.set_option('max_colwidth', None)"
   ]
  },
  {
   "cell_type": "code",
   "execution_count": 34,
   "id": "13b1245b-75b5-4d58-968b-c0623894154d",
   "metadata": {},
   "outputs": [],
   "source": [
    "df_ref = pd.read_excel(\"./data/karti competencii_marketing.xlsx\", skiprows = [0])"
   ]
  },
  {
   "cell_type": "markdown",
   "id": "ec72f96d-95a3-4e1f-b5b3-fcf45c2ef400",
   "metadata": {},
   "source": [
    "Достаем мэтчинг характеристик."
   ]
  },
  {
   "cell_type": "code",
   "execution_count": 100,
   "id": "ae508789-87a1-4e63-8863-74d100985b83",
   "metadata": {},
   "outputs": [],
   "source": [
    "def clean_start_number(text: str):\n",
    "    if type(text) != str:\n",
    "        return text\n",
    "    while not text[0].isalpha():\n",
    "        text = text[1:]\n",
    "    return text"
   ]
  },
  {
   "cell_type": "code",
   "execution_count": 101,
   "id": "6fa80184-4e29-4574-97f0-02f6053e14fa",
   "metadata": {},
   "outputs": [],
   "source": [
    "with open(\"./save/competencies.json\", \"r\") as f:\n",
    "    dict_maincomp_comp = json.load(f)\n",
    "\n",
    "all_competencies = []\n",
    "for key in dict_maincomp_comp:\n",
    "    if len(dict_maincomp_comp[key]) == 0:\n",
    "        dict_maincomp_comp[key].append(key)\n",
    "    dict_maincomp_comp[key] = [clean_start_number(comp) for comp in dict_maincomp_comp[key]]\n",
    "    all_competencies += dict_maincomp_comp[key]"
   ]
  },
  {
   "cell_type": "code",
   "execution_count": 102,
   "id": "0c984aa0-99f1-40e5-93a6-55b3f2f19f62",
   "metadata": {},
   "outputs": [],
   "source": [
    "queries_mapping = {\n",
    "    \"знания\": \"Unnamed: 8\",\n",
    "    \"должности\": \"Unnamed: 5\",\n",
    "    \"навыки\": \"Unnamed: 11\"\n",
    "}"
   ]
  },
  {
   "cell_type": "code",
   "execution_count": 163,
   "id": "f567e6c9-93e7-45cc-9c6f-2c7c93750b8e",
   "metadata": {},
   "outputs": [],
   "source": [
    "def compose_match_dict(\n",
    "    df: pd.DataFrame,\n",
    "    col_parent: str,\n",
    "    col_child: str,\n",
    "    filter_parent_values: Optional[List[str]] = None\n",
    "):\n",
    "    df_copy = df.copy()\n",
    "    if filter_parent_values is not None:\n",
    "        df_copy = df_copy[df_copy[col_parent].apply(clean_start_number).isin(filter_parent_values)]\n",
    "    inds_nna = df_copy[~df_copy[col_parent].isna()].index.values\n",
    "    res_dict = {}\n",
    "    for i in range(1, len(inds_nna)):\n",
    "        key = df.loc[inds_nna[i - 1]][col_parent]\n",
    "        values = df.loc[inds_nna[i - 1] : inds_nna[i] - 1][col_child].dropna().values\n",
    "        if type(key) == str:\n",
    "            values = [val.strip() for val in values if type(val) == str]\n",
    "            if key not in res_dict:\n",
    "                res_dict[clean_start_number(key).strip()] = values\n",
    "            else:\n",
    "                res_dict[clean_start_number(key).strip()] += values\n",
    "                res_dict[clean_start_number(key).strip()] = list(np.unique(res_dict[clean_start_number(key).strip()]))\n",
    "    return res_dict"
   ]
  },
  {
   "cell_type": "code",
   "execution_count": 165,
   "id": "2ce22de3-7bc6-4c3c-9518-f105ea3fcf2e",
   "metadata": {},
   "outputs": [],
   "source": [
    "dict_know_skills = compose_match_dict(\n",
    "    df=df_ref,\n",
    "    col_parent=queries_mapping[\"знания\"],\n",
    "    col_child=queries_mapping[\"навыки\"]\n",
    ")\n",
    "dict_comp_know = compose_match_dict(\n",
    "    df=df_ref,\n",
    "    col_parent=\"Трудовые функции / компетенции\",\n",
    "    col_child=queries_mapping[\"знания\"],\n",
    "    filter_parent_values=all_competencies\n",
    ")"
   ]
  },
  {
   "cell_type": "code",
   "execution_count": 166,
   "id": "b7ecca6d-77e3-43b5-bcec-01016a71c377",
   "metadata": {},
   "outputs": [],
   "source": [
    "@dataclass\n",
    "class Knowledge:\n",
    "    name: str\n",
    "    skills: List[str]\n",
    "\n",
    "@dataclass\n",
    "class Competence:\n",
    "    name: str\n",
    "    knowledge: List[Knowledge]\n",
    "\n",
    "@dataclass\n",
    "class MainCompetence:\n",
    "    name: str\n",
    "    competencies: List[Competence]"
   ]
  },
  {
   "cell_type": "markdown",
   "id": "531385db-f0ba-4424-84e3-959b1edc9aa4",
   "metadata": {},
   "source": [
    "# Маркетолог"
   ]
  },
  {
   "cell_type": "code",
   "execution_count": 325,
   "id": "d67e395f-3c77-4006-ad05-25490d53e3bb",
   "metadata": {},
   "outputs": [],
   "source": [
    "df_comp = pd.read_csv(\"./save/comp_matching_compare.csv\")\n",
    "df_skills = pd.read_csv(\"./save/match_results_навыки_ext.csv\")\n",
    "df_know = pd.read_csv(\"./save/match_results_знания_ext.csv\")\n",
    "df_position = pd.read_csv(\"./save/match_results_должности.csv\")\n",
    "skills = [\n",
    "    'Системное мышление',\n",
    "    'Стратегическое мышление',\n",
    "    'Добросовестность',\n",
    "    'Соблюдение трудовой дисциплины',\n",
    "    'Организационные способности',\n",
    "    'Способность к анализу и контролю',\n",
    "    'Умение разрабатывать и реализовывать стратегии',\n",
    "    'Навыки взаимодействия с сотрудниками и руководством',\n",
    "    'Способность работать в команде',\n",
    "    'Навыки ведения деловых коммуникаций',\n",
    "    'Умение проводить эффективные мониторинги и анализы'\n",
    "]"
   ]
  },
  {
   "cell_type": "code",
   "execution_count": 350,
   "id": "3b958356-7b75-4894-a611-b58707a7ed1f",
   "metadata": {},
   "outputs": [],
   "source": [
    "perc_check = np.percentile(df_skills[\"cosine_sim\"].values, 7)"
   ]
  },
  {
   "cell_type": "code",
   "execution_count": 351,
   "id": "8ed831c1-96e1-4483-9675-ab5723ab91d3",
   "metadata": {},
   "outputs": [
    {
     "data": {
      "text/html": [
       "<div>\n",
       "<style scoped>\n",
       "    .dataframe tbody tr th:only-of-type {\n",
       "        vertical-align: middle;\n",
       "    }\n",
       "\n",
       "    .dataframe tbody tr th {\n",
       "        vertical-align: top;\n",
       "    }\n",
       "\n",
       "    .dataframe thead th {\n",
       "        text-align: right;\n",
       "    }\n",
       "</style>\n",
       "<table border=\"1\" class=\"dataframe\">\n",
       "  <thead>\n",
       "    <tr style=\"text-align: right;\">\n",
       "      <th></th>\n",
       "      <th>Найденные навыки</th>\n",
       "      <th>Существующие навыки</th>\n",
       "      <th>cosine_sim</th>\n",
       "      <th>Соответствие</th>\n",
       "    </tr>\n",
       "  </thead>\n",
       "  <tbody>\n",
       "    <tr>\n",
       "      <th>30</th>\n",
       "      <td>Грамотная речь</td>\n",
       "      <td>Владение русским языком</td>\n",
       "      <td>0.513</td>\n",
       "      <td>Хорошо</td>\n",
       "    </tr>\n",
       "    <tr>\n",
       "      <th>31</th>\n",
       "      <td>Высокий уровень самоорганизации и ответственности</td>\n",
       "      <td>Разрабатывать и принимать управленческие решения</td>\n",
       "      <td>0.473</td>\n",
       "      <td>Норм</td>\n",
       "    </tr>\n",
       "    <tr>\n",
       "      <th>33</th>\n",
       "      <td>Системное мышление</td>\n",
       "      <td>Анализ среды для коммуникации и навыки работы с постоянно меняющейся средой</td>\n",
       "      <td>0.445</td>\n",
       "      <td>Норм</td>\n",
       "    </tr>\n",
       "  </tbody>\n",
       "</table>\n",
       "</div>"
      ],
      "text/plain": [
       "                                     Найденные навыки  \\\n",
       "30                                     Грамотная речь   \n",
       "31  Высокий уровень самоорганизации и ответственности   \n",
       "33                                 Системное мышление   \n",
       "\n",
       "                                                            Существующие навыки  \\\n",
       "30                                                      Владение русским языком   \n",
       "31                             Разрабатывать и принимать управленческие решения   \n",
       "33  Анализ среды для коммуникации и навыки работы с постоянно меняющейся средой   \n",
       "\n",
       "    cosine_sim Соответствие  \n",
       "30       0.513       Хорошо  \n",
       "31       0.473         Норм  \n",
       "33       0.445         Норм  "
      ]
     },
     "execution_count": 351,
     "metadata": {},
     "output_type": "execute_result"
    }
   ],
   "source": [
    "df_skills[df_skills['cosine_sim'] < perc_check]"
   ]
  },
  {
   "cell_type": "code",
   "execution_count": 352,
   "id": "08a17d39-e370-4984-a1d1-1bb666ed45ed",
   "metadata": {},
   "outputs": [],
   "source": [
    "new_skills = df_skills[df_skills['cosine_sim'] < perc_check][\"Найденные навыки\"].values"
   ]
  },
  {
   "cell_type": "code",
   "execution_count": 353,
   "id": "7eda9297-fdec-477b-bf2c-bbfae7bfac9c",
   "metadata": {},
   "outputs": [],
   "source": [
    "skills_found = df_skills[df_skills['cosine_sim'] > perc_check][\"Существующие навыки\"].values"
   ]
  },
  {
   "cell_type": "code",
   "execution_count": null,
   "id": "de7699b6-40f3-4a3b-a459-092dd9f14f00",
   "metadata": {},
   "outputs": [],
   "source": []
  },
  {
   "cell_type": "code",
   "execution_count": 354,
   "id": "470a8d6c-4bd3-4962-ba5a-e05db56b2cce",
   "metadata": {},
   "outputs": [],
   "source": [
    "perc_check = np.percentile(df_know[\"cosine_sim\"].values, 7)"
   ]
  },
  {
   "cell_type": "code",
   "execution_count": 355,
   "id": "a2d1a958-1ec4-477e-8480-00d8bd58ad04",
   "metadata": {},
   "outputs": [
    {
     "data": {
      "text/html": [
       "<div>\n",
       "<style scoped>\n",
       "    .dataframe tbody tr th:only-of-type {\n",
       "        vertical-align: middle;\n",
       "    }\n",
       "\n",
       "    .dataframe tbody tr th {\n",
       "        vertical-align: top;\n",
       "    }\n",
       "\n",
       "    .dataframe thead th {\n",
       "        text-align: right;\n",
       "    }\n",
       "</style>\n",
       "<table border=\"1\" class=\"dataframe\">\n",
       "  <thead>\n",
       "    <tr style=\"text-align: right;\">\n",
       "      <th></th>\n",
       "      <th>Найденные знания</th>\n",
       "      <th>Существующие знания</th>\n",
       "      <th>cosine_sim</th>\n",
       "      <th>Соответствие</th>\n",
       "    </tr>\n",
       "  </thead>\n",
       "  <tbody>\n",
       "    <tr>\n",
       "      <th>17</th>\n",
       "      <td>принципы системного анализа</td>\n",
       "      <td>Принципы и методы бизнес-планирования</td>\n",
       "      <td>0.475</td>\n",
       "      <td>Не совпадает</td>\n",
       "    </tr>\n",
       "    <tr>\n",
       "      <th>18</th>\n",
       "      <td>психологические особенности поведения людей разных возрастов в различных жизненных ситуациях</td>\n",
       "      <td>Основные поведенческие факторы</td>\n",
       "      <td>0.443</td>\n",
       "      <td>Идеально</td>\n",
       "    </tr>\n",
       "  </tbody>\n",
       "</table>\n",
       "</div>"
      ],
      "text/plain": [
       "                                                                                Найденные знания  \\\n",
       "17                                                                   принципы системного анализа   \n",
       "18  психологические особенности поведения людей разных возрастов в различных жизненных ситуациях   \n",
       "\n",
       "                      Существующие знания  cosine_sim  Соответствие  \n",
       "17  Принципы и методы бизнес-планирования       0.475  Не совпадает  \n",
       "18         Основные поведенческие факторы       0.443      Идеально  "
      ]
     },
     "execution_count": 355,
     "metadata": {},
     "output_type": "execute_result"
    }
   ],
   "source": [
    "df_know[df_know['cosine_sim'] < perc_check]"
   ]
  },
  {
   "cell_type": "code",
   "execution_count": 356,
   "id": "e6138143-34ec-42bf-b6a2-f30332536d47",
   "metadata": {},
   "outputs": [],
   "source": [
    "know_found = df_know[df_know['cosine_sim'] > perc_check][\"Существующие знания\"].values"
   ]
  },
  {
   "cell_type": "code",
   "execution_count": 357,
   "id": "fa64bbb8-ee1f-42b2-b44e-24e825a43584",
   "metadata": {},
   "outputs": [],
   "source": [
    "new_know = df_know[df_know['cosine_sim'] < perc_check][\"Найденные знания\"].values"
   ]
  },
  {
   "cell_type": "code",
   "execution_count": null,
   "id": "49d23961-c459-4458-bc53-578c21bf54b9",
   "metadata": {},
   "outputs": [],
   "source": []
  },
  {
   "cell_type": "code",
   "execution_count": 358,
   "id": "03dc38c4-ab39-4285-b88b-5a7e593136d8",
   "metadata": {},
   "outputs": [],
   "source": [
    "perc_check = np.percentile(df_comp[\"cosine_sim cosine\"].values, 7)"
   ]
  },
  {
   "cell_type": "code",
   "execution_count": 359,
   "id": "95fa6265-e6ec-49c3-96da-72c037312522",
   "metadata": {},
   "outputs": [
    {
     "data": {
      "text/html": [
       "<div>\n",
       "<style scoped>\n",
       "    .dataframe tbody tr th:only-of-type {\n",
       "        vertical-align: middle;\n",
       "    }\n",
       "\n",
       "    .dataframe tbody tr th {\n",
       "        vertical-align: top;\n",
       "    }\n",
       "\n",
       "    .dataframe thead th {\n",
       "        text-align: right;\n",
       "    }\n",
       "</style>\n",
       "<table border=\"1\" class=\"dataframe\">\n",
       "  <thead>\n",
       "    <tr style=\"text-align: right;\">\n",
       "      <th></th>\n",
       "      <th>Найденные компетенции</th>\n",
       "      <th>Существующие компетенции cosine</th>\n",
       "      <th>cosine_sim cosine</th>\n",
       "      <th>Существующие компетенции combined</th>\n",
       "      <th>Соответствие</th>\n",
       "    </tr>\n",
       "  </thead>\n",
       "  <tbody>\n",
       "    <tr>\n",
       "      <th>9</th>\n",
       "      <td>Организация участия компании в профильных выставках</td>\n",
       "      <td>Реализация маркетинговых и рекламных мероприятий</td>\n",
       "      <td>0.493</td>\n",
       "      <td>Реализация маркетинговых и рекламных мероприятий</td>\n",
       "      <td>Норм</td>\n",
       "    </tr>\n",
       "    <tr>\n",
       "      <th>19</th>\n",
       "      <td>Работа с подрядчиками</td>\n",
       "      <td>Работа со стажерами</td>\n",
       "      <td>0.530</td>\n",
       "      <td>Работа со стажерами</td>\n",
       "      <td>Не соответствует</td>\n",
       "    </tr>\n",
       "  </tbody>\n",
       "</table>\n",
       "</div>"
      ],
      "text/plain": [
       "                                  Найденные компетенции  \\\n",
       "9   Организация участия компании в профильных выставках   \n",
       "19                                Работа с подрядчиками   \n",
       "\n",
       "                     Существующие компетенции cosine  cosine_sim cosine  \\\n",
       "9   Реализация маркетинговых и рекламных мероприятий              0.493   \n",
       "19                               Работа со стажерами              0.530   \n",
       "\n",
       "                   Существующие компетенции combined      Соответствие  \n",
       "9   Реализация маркетинговых и рекламных мероприятий              Норм  \n",
       "19                               Работа со стажерами  Не соответствует  "
      ]
     },
     "execution_count": 359,
     "metadata": {},
     "output_type": "execute_result"
    }
   ],
   "source": [
    "df_comp[df_comp['cosine_sim cosine'] < perc_check][[\"Найденные компетенции\", \"Существующие компетенции cosine\", \"cosine_sim cosine\", \"Существующие компетенции combined\", \"Соответствие\"]]"
   ]
  },
  {
   "cell_type": "code",
   "execution_count": 360,
   "id": "24cd2648-f34d-44e8-aaf6-1f696908991c",
   "metadata": {},
   "outputs": [],
   "source": [
    "comp_found = df_comp[df_comp['cosine_sim cosine'] > perc_check][\"Существующие компетенции cosine\"].apply(lambda x: x.strip()).values"
   ]
  },
  {
   "cell_type": "code",
   "execution_count": 362,
   "id": "91034828-f1ea-41b9-8a4d-3080f7edfda6",
   "metadata": {},
   "outputs": [],
   "source": [
    "new_comps = df_comp[df_comp['cosine_sim cosine'] < perc_check][\"Найденные компетенции\"].values"
   ]
  },
  {
   "cell_type": "code",
   "execution_count": null,
   "id": "37d4e6a4-9442-4aad-92a3-0166f1368d94",
   "metadata": {},
   "outputs": [],
   "source": []
  },
  {
   "cell_type": "code",
   "execution_count": 286,
   "id": "d977546b-185d-4209-809f-77e79ffbc9b7",
   "metadata": {},
   "outputs": [],
   "source": [
    "def get_found_dict(dict_match : Dict, values_found: List[Union[str, Knowledge, Competence]]):\n",
    "    res_dict = {}\n",
    "    for val in values_found:\n",
    "        found = False\n",
    "        val_str = val\n",
    "        if type(val) != str:\n",
    "            val_str = val.name\n",
    "        val_str = val_str.strip()\n",
    "        for key in dict_match:\n",
    "            if val_str in dict_match[key]:\n",
    "                if key not in res_dict:\n",
    "                    res_dict[key] = []\n",
    "                found = True\n",
    "                if val not in res_dict[key]:\n",
    "                    res_dict[key].append(val)\n",
    "                break\n",
    "        if found == False:\n",
    "            print(val_str)\n",
    "    return res_dict"
   ]
  },
  {
   "cell_type": "code",
   "execution_count": 253,
   "id": "4f96031c-fcfd-4c44-9728-f60428d455c1",
   "metadata": {},
   "outputs": [],
   "source": [
    "know_dict = get_found_dict(dict_know_skills, skills_found)"
   ]
  },
  {
   "cell_type": "code",
   "execution_count": 254,
   "id": "f03acbeb-0fa0-471e-99fd-7cf9f6b22d79",
   "metadata": {},
   "outputs": [
    {
     "data": {
      "text/plain": [
       "{'Методы разработки товарной политики'}"
      ]
     },
     "execution_count": 254,
     "metadata": {},
     "output_type": "execute_result"
    }
   ],
   "source": [
    "set(know_found).intersection(know_dict.keys())"
   ]
  },
  {
   "cell_type": "code",
   "execution_count": 255,
   "id": "6018ac98-4a04-4c19-91c0-1a3f7cd6d88a",
   "metadata": {},
   "outputs": [],
   "source": [
    "know_found_not_matched_str = list(set(know_found) - set(know_found).intersection(know_dict.keys()))\n",
    "know_found_not_matched = [Knowledge(name=know, skills=[]) for know in know_found_not_matched_str]"
   ]
  },
  {
   "cell_type": "code",
   "execution_count": 256,
   "id": "b92156ac-64af-4e0f-9021-7415f3566f55",
   "metadata": {},
   "outputs": [],
   "source": [
    "know_list_matched = []\n",
    "know_list_not_matched = []\n",
    "for know in know_dict:\n",
    "    if know in know_found:\n",
    "        know_list_matched.append(Knowledge(name=know, skills=know_dict[know]))\n",
    "    else:\n",
    "        know_list_not_matched.append(Knowledge(name=know, skills=know_dict[know]))"
   ]
  },
  {
   "cell_type": "code",
   "execution_count": 257,
   "id": "8e1a67b2-eef9-4d11-8d87-bdc5b3d6710e",
   "metadata": {},
   "outputs": [
    {
     "name": "stdout",
     "output_type": "stream",
     "text": [
      "Найдено, но нет в скиллах:  15\n",
      "Найдено, есть в скиллах:  1\n",
      "Не найдено, есть в скиллах:  17\n"
     ]
    }
   ],
   "source": [
    "print(\"Найдено, но нет в скиллах: \", len(know_found_not_matched))\n",
    "print(\"Найдено, есть в скиллах: \", len(know_list_matched))\n",
    "print(\"Не найдено, есть в скиллах: \", len(know_list_not_matched))"
   ]
  },
  {
   "cell_type": "code",
   "execution_count": 258,
   "id": "72b87e29-404c-49bd-9bcf-ef126ac09c66",
   "metadata": {},
   "outputs": [],
   "source": [
    "full_knowledge = know_found_not_matched + know_list_matched + know_list_not_matched"
   ]
  },
  {
   "cell_type": "code",
   "execution_count": 279,
   "id": "ee7687d9-54a6-4410-abae-70d3e298bbde",
   "metadata": {},
   "outputs": [],
   "source": [
    "comp_dict = get_found_dict(dict_comp_know, full_knowledge)"
   ]
  },
  {
   "cell_type": "code",
   "execution_count": 280,
   "id": "f9af505c-2caf-49bd-ab06-385cc6299ce9",
   "metadata": {},
   "outputs": [
    {
     "data": {
      "text/plain": [
       "{'Поиск, сбор и анализ маркетинговой информации',\n",
       " 'Проводить маркетинговые исследования и анализировать результаты',\n",
       " 'Разработка ценовой политики компании',\n",
       " 'Реализация маркетинговых и рекламных мероприятий'}"
      ]
     },
     "execution_count": 280,
     "metadata": {},
     "output_type": "execute_result"
    }
   ],
   "source": [
    "set(comp_found).intersection(comp_dict.keys())"
   ]
  },
  {
   "cell_type": "code",
   "execution_count": 281,
   "id": "bac7dbcf-25fa-4e39-9605-5748df05e4aa",
   "metadata": {},
   "outputs": [],
   "source": [
    "comp_found_not_matched_str = list(set(comp_found) - set(comp_found).intersection(comp_dict.keys()))\n",
    "comp_found_not_matched = [Competence(name=comp, knowledge=[]) for comp in comp_found_not_matched_str]"
   ]
  },
  {
   "cell_type": "code",
   "execution_count": 282,
   "id": "8f62a9d6-326a-4bf8-bd0d-bc966618628d",
   "metadata": {},
   "outputs": [],
   "source": [
    "comp_list_matched = []\n",
    "comp_list_not_matched = []\n",
    "for comp in comp_dict:\n",
    "    if comp in comp_found:\n",
    "        comp_list_matched.append(Competence(name=comp, knowledge=comp_dict[comp]))\n",
    "    else:\n",
    "        comp_list_not_matched.append(Competence(name=comp, knowledge=comp_dict[comp]))"
   ]
  },
  {
   "cell_type": "code",
   "execution_count": 283,
   "id": "f9062389-3fa7-46e8-924d-b9bbb258c1af",
   "metadata": {},
   "outputs": [
    {
     "name": "stdout",
     "output_type": "stream",
     "text": [
      "Найдено, но нет в навыках:  11\n",
      "Найдено, есть в навыках:  4\n",
      "Не найдено, есть в навыках:  20\n"
     ]
    }
   ],
   "source": [
    "print(\"Найдено, но нет в навыках: \", len(comp_found_not_matched))\n",
    "print(\"Найдено, есть в навыках: \", len(comp_list_matched))\n",
    "print(\"Не найдено, есть в навыках: \", len(comp_list_not_matched))"
   ]
  },
  {
   "cell_type": "code",
   "execution_count": 284,
   "id": "7cf1aae3-c6b1-444a-b755-dee140229ef9",
   "metadata": {},
   "outputs": [],
   "source": [
    "full_competencies = comp_found_not_matched + comp_list_matched + comp_list_not_matched"
   ]
  },
  {
   "cell_type": "code",
   "execution_count": 287,
   "id": "83438bc5-eecf-4e91-bbe2-0d2f2f880a28",
   "metadata": {},
   "outputs": [],
   "source": [
    "main_comp_dict = get_found_dict(dict_maincomp_comp, full_competencies)"
   ]
  },
  {
   "cell_type": "code",
   "execution_count": 289,
   "id": "f958a723-36dc-48ac-bb61-46eff7dd5362",
   "metadata": {},
   "outputs": [],
   "source": [
    "main_comp_list = [MainCompetence(name=key, competencies=main_comp_dict[key]) for key in main_comp_dict]"
   ]
  },
  {
   "cell_type": "code",
   "execution_count": 296,
   "id": "2b9e61a0-4f8a-4aba-af0c-f262787186bd",
   "metadata": {},
   "outputs": [],
   "source": [
    "def create_comp_df(main_comp: MainCompetence):\n",
    "    rows = []\n",
    "    for comp in main_comp.competencies:\n",
    "        if len(comp.knowledge) == 0:\n",
    "            row = [main_comp.name, comp.name, \"\", \"\"]\n",
    "            rows.append(row)\n",
    "        for know in comp.knowledge:\n",
    "            if len(know.skills) == 0:\n",
    "                row = [main_comp.name, comp.name, know.name, \"\"]\n",
    "                rows.append(row)\n",
    "            for skill in know.skills:\n",
    "                row = [main_comp.name, comp.name, know.name, skill]\n",
    "                rows.append(row)\n",
    "    df = pd.DataFrame(np.vstack(rows), columns=[\"Основная компетенция\", \"Компетенция\", \"Знания\", \"Навыки\"])\n",
    "    return df"
   ]
  },
  {
   "cell_type": "code",
   "execution_count": 303,
   "id": "3abff19f-4334-49ce-ac6d-ce96f0517ae6",
   "metadata": {},
   "outputs": [],
   "source": [
    "all_dfs = []\n",
    "for maincomp in main_comp_list:\n",
    "    df = create_comp_df(maincomp)\n",
    "    all_dfs.append(df)"
   ]
  },
  {
   "cell_type": "code",
   "execution_count": 307,
   "id": "284f5a12-b5d2-4712-9dd0-84a864a03e0a",
   "metadata": {},
   "outputs": [],
   "source": [
    "df_all = pd.concat(all_dfs).reset_index(drop=True)"
   ]
  },
  {
   "cell_type": "code",
   "execution_count": 319,
   "id": "f0a0df94-0959-412e-b0b9-cb1978e076f0",
   "metadata": {},
   "outputs": [],
   "source": [
    "def clean_column(values: np.array):\n",
    "    prev_value = values[0]\n",
    "    for i in range(1, len(values)):\n",
    "        if values[i] == prev_value:\n",
    "            values[i] = \"\"\n",
    "        else:\n",
    "            prev_value = values[i]\n",
    "    return values"
   ]
  },
  {
   "cell_type": "code",
   "execution_count": 321,
   "id": "4433444d-c74d-47e9-ad41-a96fc4f28038",
   "metadata": {
    "scrolled": true
   },
   "outputs": [],
   "source": [
    "for col in df_all.columns[:-1]:\n",
    "    df_all[col] = clean_column(df_all[col].values)"
   ]
  },
  {
   "cell_type": "code",
   "execution_count": 335,
   "id": "e6414efc-ac13-4841-acb5-39c9907661c5",
   "metadata": {},
   "outputs": [],
   "source": [
    "position = df_position.iloc[0][\"Существующие должности\"]\n",
    "position_level = df_ref[df_ref[queries_mapping['должности']] == position][\"Уровень должности\"].iloc[0]"
   ]
  },
  {
   "cell_type": "code",
   "execution_count": 336,
   "id": "14f4f64e-0517-46ca-b93b-07663d7f2d11",
   "metadata": {},
   "outputs": [],
   "source": [
    "df_all[\"Софт-скиллы\"] = skills + [\"\"] * (df_all.shape[0] - len(skills))\n",
    "df_all[\"Направление (сфера)\"] = [\"Маркетинг\"] + [\"\"] * (df_all.shape[0] - 1)\n",
    "df_all[\"Должность\"] = [position] + [\"\"] * (df_all.shape[0] - 1)\n",
    "df_all[\"Уровень должности\"] = [position_level] + [\"\"] * (df_all.shape[0] - 1)"
   ]
  },
  {
   "cell_type": "code",
   "execution_count": 343,
   "id": "c21b5337-f9d5-4574-be5c-39aa4b2badfe",
   "metadata": {
    "scrolled": true
   },
   "outputs": [],
   "source": [
    "df_all = df_all[\n",
    "    list(df_all.columns[-3:]) + list(df_all.columns[:-3]) \n",
    "]"
   ]
  },
  {
   "cell_type": "code",
   "execution_count": 345,
   "id": "2ff45304-5aca-41a2-b004-c0160740170f",
   "metadata": {
    "scrolled": true
   },
   "outputs": [],
   "source": [
    "df_all.to_csv(\"./save/knk_marketolog.csv\", index = False)"
   ]
  },
  {
   "cell_type": "code",
   "execution_count": 363,
   "id": "cccbe7bc-8def-41da-808a-8c9717d15731",
   "metadata": {},
   "outputs": [
    {
     "data": {
      "text/html": [
       "<div>\n",
       "<style scoped>\n",
       "    .dataframe tbody tr th:only-of-type {\n",
       "        vertical-align: middle;\n",
       "    }\n",
       "\n",
       "    .dataframe tbody tr th {\n",
       "        vertical-align: top;\n",
       "    }\n",
       "\n",
       "    .dataframe thead th {\n",
       "        text-align: right;\n",
       "    }\n",
       "</style>\n",
       "<table border=\"1\" class=\"dataframe\">\n",
       "  <thead>\n",
       "    <tr style=\"text-align: right;\">\n",
       "      <th></th>\n",
       "      <th>Направление (сфера)</th>\n",
       "      <th>Должность</th>\n",
       "      <th>Уровень должности</th>\n",
       "      <th>Основная компетенция</th>\n",
       "      <th>Компетенция</th>\n",
       "      <th>Знания</th>\n",
       "      <th>Навыки</th>\n",
       "      <th>Софт-скиллы</th>\n",
       "    </tr>\n",
       "  </thead>\n",
       "  <tbody>\n",
       "    <tr>\n",
       "      <th>0</th>\n",
       "      <td>Маркетинг</td>\n",
       "      <td>Маркетолог</td>\n",
       "      <td>UD02</td>\n",
       "      <td>Вывод на рынок нового продукта</td>\n",
       "      <td>Разработка нового продукта: идея, прототип, уточнение требований, тестирование и управление качеством</td>\n",
       "      <td></td>\n",
       "      <td></td>\n",
       "      <td>Системное мышление</td>\n",
       "    </tr>\n",
       "    <tr>\n",
       "      <th>1</th>\n",
       "      <td></td>\n",
       "      <td></td>\n",
       "      <td></td>\n",
       "      <td></td>\n",
       "      <td>Реализация маркетинговых и рекламных мероприятий по продвижению нового продукта</td>\n",
       "      <td></td>\n",
       "      <td></td>\n",
       "      <td>Стратегическое мышление</td>\n",
       "    </tr>\n",
       "    <tr>\n",
       "      <th>2</th>\n",
       "      <td></td>\n",
       "      <td></td>\n",
       "      <td></td>\n",
       "      <td></td>\n",
       "      <td>Оценка привлекательности нового продукта</td>\n",
       "      <td>Методика оценки привлекательности новой продукции для компании; методика оценки рисков внешней среды</td>\n",
       "      <td></td>\n",
       "      <td>Добросовестность</td>\n",
       "    </tr>\n",
       "    <tr>\n",
       "      <th>3</th>\n",
       "      <td></td>\n",
       "      <td></td>\n",
       "      <td></td>\n",
       "      <td></td>\n",
       "      <td>Планирование продаж. Технология разработки сбытовой сети для нового продукта</td>\n",
       "      <td>Формирование системы продаж и стратегии сбыта</td>\n",
       "      <td></td>\n",
       "      <td>Соблюдение трудовой дисциплины</td>\n",
       "    </tr>\n",
       "    <tr>\n",
       "      <th>4</th>\n",
       "      <td></td>\n",
       "      <td></td>\n",
       "      <td></td>\n",
       "      <td></td>\n",
       "      <td>Маркетинговый анализ на прединвестиционном этапе. Анализ рынка и маркетинговой среды при разработке нового продукта</td>\n",
       "      <td>Анализ рынка: техническое задание на заказ исследования</td>\n",
       "      <td>Создание технического задания на заказ исследования рынка</td>\n",
       "      <td>Организационные способности</td>\n",
       "    </tr>\n",
       "  </tbody>\n",
       "</table>\n",
       "</div>"
      ],
      "text/plain": [
       "  Направление (сфера)   Должность Уровень должности  \\\n",
       "0           Маркетинг  Маркетолог              UD02   \n",
       "1                                                     \n",
       "2                                                     \n",
       "3                                                     \n",
       "4                                                     \n",
       "\n",
       "             Основная компетенция  \\\n",
       "0  Вывод на рынок нового продукта   \n",
       "1                                   \n",
       "2                                   \n",
       "3                                   \n",
       "4                                   \n",
       "\n",
       "                                                                                                           Компетенция  \\\n",
       "0                Разработка нового продукта: идея, прототип, уточнение требований, тестирование и управление качеством   \n",
       "1                                      Реализация маркетинговых и рекламных мероприятий по продвижению нового продукта   \n",
       "2                                                                             Оценка привлекательности нового продукта   \n",
       "3                                         Планирование продаж. Технология разработки сбытовой сети для нового продукта   \n",
       "4  Маркетинговый анализ на прединвестиционном этапе. Анализ рынка и маркетинговой среды при разработке нового продукта   \n",
       "\n",
       "                                                                                                 Знания  \\\n",
       "0                                                                                                         \n",
       "1                                                                                                         \n",
       "2  Методика оценки привлекательности новой продукции для компании; методика оценки рисков внешней среды   \n",
       "3                                                         Формирование системы продаж и стратегии сбыта   \n",
       "4                                               Анализ рынка: техническое задание на заказ исследования   \n",
       "\n",
       "                                                      Навыки  \\\n",
       "0                                                              \n",
       "1                                                              \n",
       "2                                                              \n",
       "3                                                              \n",
       "4  Создание технического задания на заказ исследования рынка   \n",
       "\n",
       "                      Софт-скиллы  \n",
       "0              Системное мышление  \n",
       "1         Стратегическое мышление  \n",
       "2                Добросовестность  \n",
       "3  Соблюдение трудовой дисциплины  \n",
       "4     Организационные способности  "
      ]
     },
     "execution_count": 363,
     "metadata": {},
     "output_type": "execute_result"
    }
   ],
   "source": [
    "df_all.head()"
   ]
  },
  {
   "cell_type": "code",
   "execution_count": 365,
   "id": "069a0e85-8169-4d89-a5ae-9be16bbda60e",
   "metadata": {},
   "outputs": [],
   "source": [
    "max_len_new = max(list(map(len, [new_comps, new_know, new_skills])))"
   ]
  },
  {
   "cell_type": "code",
   "execution_count": 366,
   "id": "9e0e6177-faae-44dc-b280-5a70f1b924f5",
   "metadata": {},
   "outputs": [],
   "source": [
    "cols = []\n",
    "for values in [new_comps, new_know, new_skills]:\n",
    "    cols.append(list(values) + [\"\"] * (max_len_new - len(values)))"
   ]
  },
  {
   "cell_type": "code",
   "execution_count": 369,
   "id": "96954335-80cb-419d-b9e8-5a1e482c23fb",
   "metadata": {},
   "outputs": [],
   "source": [
    "new_char = pd.DataFrame(np.vstack(cols).T, columns = [\"Компетенции\", \"Знания\", \"Навыки\"])"
   ]
  },
  {
   "cell_type": "code",
   "execution_count": 371,
   "id": "f0f88a4b-e646-43a9-88aa-3cf7d96845b5",
   "metadata": {},
   "outputs": [],
   "source": [
    "new_char.to_csv(\"./save/new_characteristics_candidates.csv\", index = False)"
   ]
  },
  {
   "cell_type": "code",
   "execution_count": null,
   "id": "6bf7475f-850d-4319-9180-1f6511aa2946",
   "metadata": {},
   "outputs": [],
   "source": []
  }
 ],
 "metadata": {
  "kernelspec": {
   "display_name": "envUW",
   "language": "python",
   "name": "envuw"
  },
  "language_info": {
   "codemirror_mode": {
    "name": "ipython",
    "version": 3
   },
   "file_extension": ".py",
   "mimetype": "text/x-python",
   "name": "python",
   "nbconvert_exporter": "python",
   "pygments_lexer": "ipython3",
   "version": "3.9.6"
  }
 },
 "nbformat": 4,
 "nbformat_minor": 5
}
