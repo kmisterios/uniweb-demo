{
 "cells": [
  {
   "cell_type": "code",
   "execution_count": 1,
   "id": "a537edf4-fbf1-49d3-bfa4-9d6ebc61618c",
   "metadata": {},
   "outputs": [
    {
     "data": {
      "text/plain": [
       "True"
      ]
     },
     "execution_count": 1,
     "metadata": {},
     "output_type": "execute_result"
    }
   ],
   "source": [
    "from typing import List, Optional\n",
    "\n",
    "from openai import OpenAI\n",
    "from dotenv import load_dotenv\n",
    "import os\n",
    "import glob\n",
    "from docx import Document\n",
    "import pandas as pd\n",
    "import numpy as np\n",
    "from tqdm import tqdm\n",
    "from pathlib import Path\n",
    "import json\n",
    "import io\n",
    "from sklearn.metrics.pairwise import cosine_similarity\n",
    "\n",
    "pd.set_option('max_colwidth', None)\n",
    "\n",
    "load_dotenv()"
   ]
  },
  {
   "cell_type": "code",
   "execution_count": 2,
   "id": "eb19ae9b-0d97-4cc0-99d9-02c07ebbb25d",
   "metadata": {},
   "outputs": [],
   "source": [
    "def load_doc(path: str, add_tables: bool = False):\n",
    "    doc = Document(path)\n",
    "    full_text = []\n",
    "    for paragraph in doc.paragraphs:\n",
    "        if len(paragraph.text) > 0:\n",
    "            full_text.append(paragraph.text)\n",
    "    \n",
    "    text = \"\\n\".join(full_text)\n",
    "    if add_tables:\n",
    "        tables_str = []\n",
    "        for table_index, table in enumerate(doc.tables):\n",
    "            table_str = f\"Таблица {table_index + 1}\"\n",
    "            table_data = []\n",
    "            for row in table.rows:\n",
    "                row_data = [cell.text for cell in row.cells]\n",
    "                table_data.append(row_data)\n",
    "            markup_table = pd.DataFrame(np.vstack(table_data)).to_markdown(index=False)\n",
    "            table_str += \"\\n\" + markup_table\n",
    "            tables_str.append(table_str)\n",
    "        tables_full_str = \"\\n\".join(tables_str)\n",
    "        text = text + \"\\n\" + tables_full_str\n",
    "    return text"
   ]
  },
  {
   "cell_type": "code",
   "execution_count": 75,
   "id": "89e9ea01-9079-490a-888d-0d36d9a473c9",
   "metadata": {},
   "outputs": [],
   "source": [
    "def find_info(tech_task: str, query: str, examples: Optional[List] = None, query_desc: Optional[str] = None):\n",
    "    question = f\"Какие {query} должны быть у специалиста из должностной инструкции?\"\n",
    "    prompt = f\"Должностная инструкция:\\n{tech_task}\\nВопрос: {question}\\nОтвет:\"\n",
    "    system_prompt = f\"Вы эксперт в найме персонала. Необходимо извлечь необходимые {query} из должностной инструкции, \"\\\n",
    "                    f\"как отдельное поле в json с ключом '{query}'. \"\\\n",
    "                    f\"Не нужно придумывать того, чего нет в должностной инструкции.\"\n",
    "    if query_desc is not None:\n",
    "        system_prompt += f\"\\n{query_desc}\"\n",
    "    if examples is not None:\n",
    "        examples_str = '\\n'.join(examples)\n",
    "        system_prompt = system_prompt + f\" Примеры {query}:\\n{examples_str}\"\n",
    "        \n",
    "    completion = client.chat.completions.create(\n",
    "        model=\"gpt-4o\",\n",
    "        messages=[\n",
    "            {\"role\": \"system\", \"content\": system_prompt},\n",
    "            {\n",
    "                \"role\": \"user\",\n",
    "                \"content\": prompt\n",
    "            }\n",
    "        ],\n",
    "        response_format={ \"type\": \"json_object\"}\n",
    "    )\n",
    "    return completion.choices[0].message.content"
   ]
  },
  {
   "cell_type": "code",
   "execution_count": 4,
   "id": "20bb822c-f13e-417a-b03f-e5c0e1ebdff7",
   "metadata": {},
   "outputs": [],
   "source": [
    "def get_embedding(text, model=\"text-embedding-3-large\"):\n",
    "   text = text.replace(\"\\n\", \" \")\n",
    "   return client.embeddings.create(input = [text], model=model).data[0].embedding\n",
    "\n",
    "def get_emb_list(texts_list, model=\"text-embedding-3-large\"):\n",
    "    res = []\n",
    "    for text in tqdm(texts_list):\n",
    "        emb = np.array(get_embedding(text=text))\n",
    "        res.append(emb)\n",
    "    return np.array(res)\n",
    "\n",
    "def find_match_cosine(query, emb_ref, emb_query, all_competencies, comp_query):\n",
    "    similarities = cosine_similarity(emb_query, emb_ref)\n",
    "    idices_most_similar = similarities.argmax(axis = 1)\n",
    "    similarities = similarities.max(axis = 1).round(3)\n",
    "    most_similar = np.array(all_competencies)[idices_most_similar]\n",
    "    df_sim = pd.DataFrame(\n",
    "        np.vstack([comp_query, most_similar, similarities]).T,\n",
    "        columns = [f\"Найденные {query}\", f\"Существующие {query}\", \"cosine_sim\"]\n",
    "    )\n",
    "    return df_sim"
   ]
  },
  {
   "cell_type": "code",
   "execution_count": 5,
   "id": "9424dbd1-c8b1-4ce5-ad91-2ae84ef2ffac",
   "metadata": {},
   "outputs": [],
   "source": [
    "client = OpenAI(api_key=os.getenv(\"OPENAI_TOKEN\"))"
   ]
  },
  {
   "cell_type": "markdown",
   "id": "a7b10046-8cdf-4954-b86a-31e31d6a7b18",
   "metadata": {},
   "source": [
    "## Load data"
   ]
  },
  {
   "cell_type": "code",
   "execution_count": 40,
   "id": "445a022f-94f4-4016-984e-32fc02f6a0e4",
   "metadata": {},
   "outputs": [],
   "source": [
    "df = pd.read_excel(\"./data/karti competencii_marketing.xlsx\", skiprows = [0])"
   ]
  },
  {
   "cell_type": "code",
   "execution_count": 41,
   "id": "3244f330-02f4-483f-bd5a-d97593ed6624",
   "metadata": {},
   "outputs": [],
   "source": [
    "queries_mapping = {\n",
    "    \"знания\": \"Unnamed: 8\",\n",
    "    \"должности\": \"Unnamed: 5\",\n",
    "    \"навыки\": \"Unnamed: 11\"\n",
    "}"
   ]
  },
  {
   "cell_type": "code",
   "execution_count": 42,
   "id": "6a0bb62a-6340-4909-9872-da616657a1f3",
   "metadata": {},
   "outputs": [],
   "source": [
    "ref_characteristics = {\n",
    "    key : list(filter(lambda x: type(x) == str, df[queries_mapping[key]].dropna().unique()))\n",
    "    for key in queries_mapping\n",
    "}"
   ]
  },
  {
   "cell_type": "code",
   "execution_count": 57,
   "id": "472f85b3-e0ce-43c3-b07d-1f3c144c4f16",
   "metadata": {},
   "outputs": [],
   "source": [
    "ref_characteristics[\"Soft Skills\"] = None"
   ]
  },
  {
   "cell_type": "code",
   "execution_count": 43,
   "id": "c0929b3c-a7ec-4bf2-b725-84c41cf49528",
   "metadata": {},
   "outputs": [],
   "source": [
    "list_queries = list(queries_mapping.keys()) + [\"Soft Skills\"]"
   ]
  },
  {
   "cell_type": "code",
   "execution_count": 44,
   "id": "066261ea-b136-4b2f-8089-6bedea4dfe78",
   "metadata": {},
   "outputs": [
    {
     "data": {
      "text/plain": [
       "['знания', 'должности', 'навыки', 'софт-скиллы']"
      ]
     },
     "execution_count": 44,
     "metadata": {},
     "output_type": "execute_result"
    }
   ],
   "source": [
    "list_queries"
   ]
  },
  {
   "cell_type": "code",
   "execution_count": 45,
   "id": "a6c9d2de-9f6f-479f-8891-c40be262fc58",
   "metadata": {},
   "outputs": [],
   "source": [
    "query_descs = {\n",
    "    \"знания\": \"Знания - это тот набор знаний, который кандидат должен иметь.\",\n",
    "    \"должности\": \"Должность - это позиция, вакансия, на которую претендует кандидат.\",\n",
    "    \"навыки\": \"Навыки - умения, которыми кандидат должен обладать.\",\n",
    "    \"софт-скиллы\": \"Soft Skills — это совокупность умений, которые показывают, каким характером обладает человек \"\\\n",
    "                   \"и как успешно он взаимодействует с другими людьми.\",\n",
    "}"
   ]
  },
  {
   "cell_type": "code",
   "execution_count": 46,
   "id": "cf6099ff-d4f3-4898-8a30-779094347dbf",
   "metadata": {},
   "outputs": [
    {
     "data": {
      "text/plain": [
       "dict_keys(['знания', 'должности', 'навыки'])"
      ]
     },
     "execution_count": 46,
     "metadata": {},
     "output_type": "execute_result"
    }
   ],
   "source": [
    "ref_characteristics.keys()"
   ]
  },
  {
   "cell_type": "code",
   "execution_count": 48,
   "id": "294820fb-843c-4aef-8f81-7618e0f325b9",
   "metadata": {},
   "outputs": [
    {
     "name": "stderr",
     "output_type": "stream",
     "text": [
      "100%|█████████████████████████████████████████████████████████████████████████████████████████████████████| 387/387 [02:53<00:00,  2.24it/s]\n",
      "100%|███████████████████████████████████████████████████████████████████████████████████████████████████████| 41/41 [00:21<00:00,  1.91it/s]\n",
      "100%|█████████████████████████████████████████████████████████████████████████████████████████████████████| 325/325 [02:31<00:00,  2.15it/s]\n"
     ]
    }
   ],
   "source": [
    "ref_characteristics_embs = {key : get_emb_list(ref_characteristics[key]) for key in ref_characteristics}"
   ]
  },
  {
   "cell_type": "markdown",
   "id": "f43a0f00-2b8d-4857-8ba0-96910f2067c8",
   "metadata": {},
   "source": [
    "## Маркетолог"
   ]
  },
  {
   "cell_type": "code",
   "execution_count": 30,
   "id": "2c82c563-bf07-46aa-9c3a-8ebe598d4ae2",
   "metadata": {},
   "outputs": [],
   "source": [
    "text_task = load_doc(\"./data/долж_инструкция_маркетолог.docx\")"
   ]
  },
  {
   "cell_type": "code",
   "execution_count": 58,
   "id": "22579a5e-c49c-4fdb-8510-e8fbb851d565",
   "metadata": {
    "scrolled": true
   },
   "outputs": [
    {
     "name": "stderr",
     "output_type": "stream",
     "text": [
      "  0%|                                                                                                                 | 0/4 [00:00<?, ?it/s]\n",
      "  0%|                                                                                                                | 0/19 [00:00<?, ?it/s]\u001b[A\n",
      "  5%|█████▍                                                                                                  | 1/19 [00:00<00:11,  1.62it/s]\u001b[A\n",
      " 11%|██████████▉                                                                                             | 2/19 [00:01<00:08,  1.91it/s]\u001b[A\n",
      " 16%|████████████████▍                                                                                       | 3/19 [00:01<00:07,  2.09it/s]\u001b[A\n",
      " 21%|█████████████████████▉                                                                                  | 4/19 [00:01<00:06,  2.15it/s]\u001b[A\n",
      " 26%|███████████████████████████▎                                                                            | 5/19 [00:02<00:06,  2.25it/s]\u001b[A\n",
      " 32%|████████████████████████████████▊                                                                       | 6/19 [00:03<00:07,  1.75it/s]\u001b[A\n",
      " 37%|██████████████████████████████████████▎                                                                 | 7/19 [00:03<00:06,  1.95it/s]\u001b[A\n",
      " 42%|███████████████████████████████████████████▊                                                            | 8/19 [00:03<00:05,  2.10it/s]\u001b[A\n",
      " 47%|█████████████████████████████████████████████████▎                                                      | 9/19 [00:04<00:04,  2.03it/s]\u001b[A\n",
      " 53%|██████████████████████████████████████████████████████▏                                                | 10/19 [00:05<00:04,  1.89it/s]\u001b[A\n",
      " 58%|███████████████████████████████████████████████████████████▋                                           | 11/19 [00:05<00:04,  1.75it/s]\u001b[A\n",
      " 63%|█████████████████████████████████████████████████████████████████                                      | 12/19 [00:06<00:03,  1.87it/s]\u001b[A\n",
      " 68%|██████████████████████████████████████████████████████████████████████▍                                | 13/19 [00:06<00:02,  2.07it/s]\u001b[A\n",
      " 74%|███████████████████████████████████████████████████████████████████████████▉                           | 14/19 [00:07<00:02,  2.15it/s]\u001b[A\n",
      " 79%|█████████████████████████████████████████████████████████████████████████████████▎                     | 15/19 [00:07<00:01,  2.21it/s]\u001b[A\n",
      " 84%|██████████████████████████████████████████████████████████████████████████████████████▋                | 16/19 [00:07<00:01,  2.32it/s]\u001b[A\n",
      " 89%|████████████████████████████████████████████████████████████████████████████████████████████▏          | 17/19 [00:08<00:00,  2.38it/s]\u001b[A\n",
      " 95%|█████████████████████████████████████████████████████████████████████████████████████████████████▌     | 18/19 [00:08<00:00,  2.37it/s]\u001b[A\n",
      "100%|███████████████████████████████████████████████████████████████████████████████████████████████████████| 19/19 [00:09<00:00,  2.08it/s]\u001b[A\n",
      " 25%|██████████████████████████▎                                                                              | 1/4 [00:15<00:46, 15.46s/it]\n",
      "  0%|                                                                                                                 | 0/1 [00:00<?, ?it/s]\u001b[A\n",
      "100%|█████████████████████████████████████████████████████████████████████████████████████████████████████████| 1/1 [00:00<00:00,  2.56it/s]\u001b[A\n",
      " 50%|████████████████████████████████████████████████████▌                                                    | 2/4 [00:16<00:14,  7.24s/it]\n",
      "  0%|                                                                                                                | 0/34 [00:00<?, ?it/s]\u001b[A\n",
      "  3%|███                                                                                                     | 1/34 [00:00<00:14,  2.29it/s]\u001b[A\n",
      "  6%|██████                                                                                                  | 2/34 [00:01<00:17,  1.86it/s]\u001b[A\n",
      "  9%|█████████▏                                                                                              | 3/34 [00:01<00:14,  2.18it/s]\u001b[A\n",
      " 12%|████████████▏                                                                                           | 4/34 [00:01<00:12,  2.32it/s]\u001b[A\n",
      " 15%|███████████████▎                                                                                        | 5/34 [00:02<00:11,  2.42it/s]\u001b[A\n",
      " 18%|██████████████████▎                                                                                     | 6/34 [00:02<00:11,  2.48it/s]\u001b[A\n",
      " 21%|█████████████████████▍                                                                                  | 7/34 [00:03<00:11,  2.29it/s]\u001b[A\n",
      " 24%|████████████████████████▍                                                                               | 8/34 [00:03<00:11,  2.21it/s]\u001b[A\n",
      " 26%|███████████████████████████▌                                                                            | 9/34 [00:03<00:10,  2.37it/s]\u001b[A\n",
      " 29%|██████████████████████████████▎                                                                        | 10/34 [00:04<00:10,  2.32it/s]\u001b[A\n",
      " 32%|█████████████████████████████████▎                                                                     | 11/34 [00:04<00:09,  2.37it/s]\u001b[A\n",
      " 35%|████████████████████████████████████▎                                                                  | 12/34 [00:05<00:09,  2.44it/s]\u001b[A\n",
      " 38%|███████████████████████████████████████▍                                                               | 13/34 [00:05<00:08,  2.49it/s]\u001b[A\n",
      " 41%|██████████████████████████████████████████▍                                                            | 14/34 [00:05<00:08,  2.41it/s]\u001b[A\n",
      " 44%|█████████████████████████████████████████████▍                                                         | 15/34 [00:06<00:08,  2.36it/s]\u001b[A\n",
      " 47%|████████████████████████████████████████████████▍                                                      | 16/34 [00:06<00:07,  2.37it/s]\u001b[A\n",
      " 50%|███████████████████████████████████████████████████▌                                                   | 17/34 [00:07<00:07,  2.40it/s]\u001b[A\n",
      " 53%|██████████████████████████████████████████████████████▌                                                | 18/34 [00:07<00:06,  2.46it/s]\u001b[A\n",
      " 56%|█████████████████████████████████████████████████████████▌                                             | 19/34 [00:08<00:06,  2.46it/s]\u001b[A\n",
      " 59%|████████████████████████████████████████████████████████████▌                                          | 20/34 [00:08<00:05,  2.37it/s]\u001b[A\n",
      " 62%|███████████████████████████████████████████████████████████████▌                                       | 21/34 [00:08<00:05,  2.31it/s]\u001b[A\n",
      " 65%|██████████████████████████████████████████████████████████████████▋                                    | 22/34 [00:09<00:05,  2.38it/s]\u001b[A\n",
      " 68%|█████████████████████████████████████████████████████████████████████▋                                 | 23/34 [00:09<00:04,  2.29it/s]\u001b[A\n",
      " 71%|████████████████████████████████████████████████████████████████████████▋                              | 24/34 [00:10<00:04,  2.33it/s]\u001b[A\n",
      " 74%|███████████████████████████████████████████████████████████████████████████▋                           | 25/34 [00:10<00:03,  2.37it/s]\u001b[A\n",
      " 76%|██████████████████████████████████████████████████████████████████████████████▊                        | 26/34 [00:11<00:03,  2.17it/s]\u001b[A\n",
      " 79%|█████████████████████████████████████████████████████████████████████████████████▊                     | 27/34 [00:11<00:03,  2.29it/s]\u001b[A\n",
      " 82%|████████████████████████████████████████████████████████████████████████████████████▊                  | 28/34 [00:12<00:02,  2.18it/s]\u001b[A\n",
      " 85%|███████████████████████████████████████████████████████████████████████████████████████▊               | 29/34 [00:12<00:02,  2.11it/s]\u001b[A\n",
      " 88%|██████████████████████████████████████████████████████████████████████████████████████████▉            | 30/34 [00:12<00:01,  2.23it/s]\u001b[A\n",
      " 91%|█████████████████████████████████████████████████████████████████████████████████████████████▉         | 31/34 [00:13<00:01,  2.20it/s]\u001b[A\n",
      " 94%|████████████████████████████████████████████████████████████████████████████████████████████████▉      | 32/34 [00:13<00:00,  2.27it/s]\u001b[A\n",
      " 97%|███████████████████████████████████████████████████████████████████████████████████████████████████▉   | 33/34 [00:14<00:00,  2.37it/s]\u001b[A\n",
      "100%|███████████████████████████████████████████████████████████████████████████████████████████████████████| 34/34 [00:14<00:00,  2.33it/s]\u001b[A\n",
      "100%|█████████████████████████████████████████████████████████████████████████████████████████████████████████| 4/4 [00:45<00:00, 11.40s/it]\n"
     ]
    }
   ],
   "source": [
    "found_characteristics = {}\n",
    "dfs_match = {}\n",
    "for query in tqdm(query_descs):\n",
    "    characteristics_list_str = find_info(\n",
    "        text_task,\n",
    "        query,\n",
    "        examples=ref_characteristics[query],\n",
    "        query_desc=query_descs[query]\n",
    "    )\n",
    "    characteristics_list = json.loads(characteristics_list_str)[query]\n",
    "    found_characteristics[query] = characteristics_list\n",
    "    if query != \"софт-скиллы\":\n",
    "        characteristics_embs = get_emb_list(characteristics_list)\n",
    "        df_sim_query = find_match_cosine(\n",
    "            query,\n",
    "            ref_characteristics_embs[query],\n",
    "            characteristics_embs,\n",
    "            ref_characteristics[query],\n",
    "            characteristics_list,\n",
    "        )\n",
    "        dfs_match[query] = df_sim_query"
   ]
  },
  {
   "cell_type": "code",
   "execution_count": 61,
   "id": "5fdb8dfe-101b-4f6a-9377-e26b4eff2ed0",
   "metadata": {},
   "outputs": [],
   "source": [
    "for key in dfs_match:\n",
    "    dfs_match[key].to_csv(f\"./save/match_results_{key}.csv\", index = False)"
   ]
  },
  {
   "cell_type": "code",
   "execution_count": 62,
   "id": "f439f230-82c4-4983-9b55-903f55b22908",
   "metadata": {},
   "outputs": [
    {
     "data": {
      "text/html": [
       "<div>\n",
       "<style scoped>\n",
       "    .dataframe tbody tr th:only-of-type {\n",
       "        vertical-align: middle;\n",
       "    }\n",
       "\n",
       "    .dataframe tbody tr th {\n",
       "        vertical-align: top;\n",
       "    }\n",
       "\n",
       "    .dataframe thead th {\n",
       "        text-align: right;\n",
       "    }\n",
       "</style>\n",
       "<table border=\"1\" class=\"dataframe\">\n",
       "  <thead>\n",
       "    <tr style=\"text-align: right;\">\n",
       "      <th></th>\n",
       "      <th>Найденные должности</th>\n",
       "      <th>Существующие должности</th>\n",
       "      <th>cosine_sim</th>\n",
       "    </tr>\n",
       "  </thead>\n",
       "  <tbody>\n",
       "    <tr>\n",
       "      <th>0</th>\n",
       "      <td>Маркетолог</td>\n",
       "      <td>Маркетолог</td>\n",
       "      <td>1.0</td>\n",
       "    </tr>\n",
       "  </tbody>\n",
       "</table>\n",
       "</div>"
      ],
      "text/plain": [
       "  Найденные должности Существующие должности cosine_sim\n",
       "0          Маркетолог             Маркетолог        1.0"
      ]
     },
     "execution_count": 62,
     "metadata": {},
     "output_type": "execute_result"
    }
   ],
   "source": [
    "dfs_match[\"должности\"]"
   ]
  },
  {
   "cell_type": "code",
   "execution_count": 100,
   "id": "aa7ecba8-afa8-4cf2-bb7c-d618a32533ec",
   "metadata": {},
   "outputs": [],
   "source": [
    "desc = \"Soft Skills — это совокупность умений, которые показывают, каким характером обладает человек \"\\\n",
    "\"и как успешно он взаимодействует с другими людьми.\"\n",
    "characteristics_list_str = find_info(\n",
    "    text_task,\n",
    "    \"Soft Skills\",\n",
    "    examples=None,\n",
    "    query_desc=desc,\n",
    ")"
   ]
  },
  {
   "cell_type": "code",
   "execution_count": 101,
   "id": "2bc6274e-b2ce-4774-87a4-29562e7dd348",
   "metadata": {},
   "outputs": [
    {
     "data": {
      "text/plain": [
       "['Системное мышление',\n",
       " 'Стратегическое мышление',\n",
       " 'Добросовестность',\n",
       " 'Соблюдение трудовой дисциплины',\n",
       " 'Организационные способности',\n",
       " 'Способность к анализу и контролю',\n",
       " 'Умение разрабатывать и реализовывать стратегии',\n",
       " 'Навыки взаимодействия с сотрудниками и руководством',\n",
       " 'Способность работать в команде',\n",
       " 'Навыки ведения деловых коммуникаций',\n",
       " 'Умение проводить эффективные мониторинги и анализы']"
      ]
     },
     "execution_count": 101,
     "metadata": {},
     "output_type": "execute_result"
    }
   ],
   "source": [
    "characteristics_list = json.loads(characteristics_list_str)[\"Soft Skills\"]\n",
    "characteristics_list"
   ]
  },
  {
   "cell_type": "code",
   "execution_count": 102,
   "id": "1e1a045d-5384-44fb-9cbf-acf5bc83c65e",
   "metadata": {},
   "outputs": [],
   "source": [
    "df_ = pd.read_csv(\"./save/match_results_знания_ext.csv\")"
   ]
  },
  {
   "cell_type": "code",
   "execution_count": 104,
   "id": "9ddb0bf0-38b6-462e-a921-cc841b642617",
   "metadata": {},
   "outputs": [
    {
     "data": {
      "text/html": [
       "<div>\n",
       "<style scoped>\n",
       "    .dataframe tbody tr th:only-of-type {\n",
       "        vertical-align: middle;\n",
       "    }\n",
       "\n",
       "    .dataframe tbody tr th {\n",
       "        vertical-align: top;\n",
       "    }\n",
       "\n",
       "    .dataframe thead th {\n",
       "        text-align: right;\n",
       "    }\n",
       "</style>\n",
       "<table border=\"1\" class=\"dataframe\">\n",
       "  <thead>\n",
       "    <tr style=\"text-align: right;\">\n",
       "      <th></th>\n",
       "      <th>proportion</th>\n",
       "    </tr>\n",
       "    <tr>\n",
       "      <th>Соответствие</th>\n",
       "      <th></th>\n",
       "    </tr>\n",
       "  </thead>\n",
       "  <tbody>\n",
       "    <tr>\n",
       "      <th>Идеально</th>\n",
       "      <td>0.632</td>\n",
       "    </tr>\n",
       "    <tr>\n",
       "      <th>Хорошо</th>\n",
       "      <td>0.263</td>\n",
       "    </tr>\n",
       "    <tr>\n",
       "      <th>Норм</th>\n",
       "      <td>0.053</td>\n",
       "    </tr>\n",
       "    <tr>\n",
       "      <th>Не совпадает</th>\n",
       "      <td>0.053</td>\n",
       "    </tr>\n",
       "  </tbody>\n",
       "</table>\n",
       "</div>"
      ],
      "text/plain": [
       "              proportion\n",
       "Соответствие            \n",
       "Идеально           0.632\n",
       "Хорошо             0.263\n",
       "Норм               0.053\n",
       "Не совпадает       0.053"
      ]
     },
     "execution_count": 104,
     "metadata": {},
     "output_type": "execute_result"
    }
   ],
   "source": [
    "df_[\"Соответствие\"].value_counts(normalize=True).round(3).to_frame()"
   ]
  },
  {
   "cell_type": "code",
   "execution_count": 105,
   "id": "af6652d4-5d51-44b0-b75a-22381f81813a",
   "metadata": {},
   "outputs": [],
   "source": [
    "df_ = pd.read_csv(\"./save/match_results_навыки_ext.csv\")"
   ]
  },
  {
   "cell_type": "code",
   "execution_count": 106,
   "id": "04d70f07-f271-4d1d-bdfe-99b86d186fe0",
   "metadata": {},
   "outputs": [
    {
     "data": {
      "text/html": [
       "<div>\n",
       "<style scoped>\n",
       "    .dataframe tbody tr th:only-of-type {\n",
       "        vertical-align: middle;\n",
       "    }\n",
       "\n",
       "    .dataframe tbody tr th {\n",
       "        vertical-align: top;\n",
       "    }\n",
       "\n",
       "    .dataframe thead th {\n",
       "        text-align: right;\n",
       "    }\n",
       "</style>\n",
       "<table border=\"1\" class=\"dataframe\">\n",
       "  <thead>\n",
       "    <tr style=\"text-align: right;\">\n",
       "      <th></th>\n",
       "      <th>proportion</th>\n",
       "    </tr>\n",
       "    <tr>\n",
       "      <th>Соответствие</th>\n",
       "      <th></th>\n",
       "    </tr>\n",
       "  </thead>\n",
       "  <tbody>\n",
       "    <tr>\n",
       "      <th>Хорошо</th>\n",
       "      <td>0.529</td>\n",
       "    </tr>\n",
       "    <tr>\n",
       "      <th>Идеально</th>\n",
       "      <td>0.324</td>\n",
       "    </tr>\n",
       "    <tr>\n",
       "      <th>Норм</th>\n",
       "      <td>0.088</td>\n",
       "    </tr>\n",
       "    <tr>\n",
       "      <th>Не соответствует</th>\n",
       "      <td>0.059</td>\n",
       "    </tr>\n",
       "  </tbody>\n",
       "</table>\n",
       "</div>"
      ],
      "text/plain": [
       "                  proportion\n",
       "Соответствие                \n",
       "Хорошо                 0.529\n",
       "Идеально               0.324\n",
       "Норм                   0.088\n",
       "Не соответствует       0.059"
      ]
     },
     "execution_count": 106,
     "metadata": {},
     "output_type": "execute_result"
    }
   ],
   "source": [
    "df_[\"Соответствие\"].value_counts(normalize=True).round(3).to_frame()"
   ]
  },
  {
   "cell_type": "markdown",
   "id": "16482f35-1c76-4e97-b914-17b7c8947c28",
   "metadata": {},
   "source": [
    "## Директор по маркетингу"
   ]
  },
  {
   "cell_type": "code",
   "execution_count": 107,
   "id": "5c4b5474-fa3a-4504-bff2-50e225eb4a7d",
   "metadata": {},
   "outputs": [],
   "source": [
    "text_task = load_doc(\"./data/долж_инструкция_директор_маркетинг.docx\")"
   ]
  },
  {
   "cell_type": "code",
   "execution_count": 64,
   "id": "c412bb3c-243b-434e-b82f-8a33d47b18ee",
   "metadata": {
    "scrolled": true
   },
   "outputs": [
    {
     "name": "stderr",
     "output_type": "stream",
     "text": [
      "  0%|                                                                                                                 | 0/4 [00:00<?, ?it/s]\n",
      "  0%|                                                                                                                | 0/21 [00:00<?, ?it/s]\u001b[A\n",
      "  5%|████▉                                                                                                   | 1/21 [00:00<00:11,  1.71it/s]\u001b[A\n",
      " 10%|█████████▉                                                                                              | 2/21 [00:00<00:08,  2.18it/s]\u001b[A\n",
      " 14%|██████████████▊                                                                                         | 3/21 [00:01<00:07,  2.38it/s]\u001b[A\n",
      " 19%|███████████████████▊                                                                                    | 4/21 [00:01<00:07,  2.31it/s]\u001b[A\n",
      " 24%|████████████████████████▊                                                                               | 5/21 [00:02<00:07,  2.11it/s]\u001b[A\n",
      " 29%|█████████████████████████████▋                                                                          | 6/21 [00:02<00:06,  2.22it/s]\u001b[A\n",
      " 33%|██████████████████████████████████▋                                                                     | 7/21 [00:03<00:06,  2.23it/s]\u001b[A\n",
      " 38%|███████████████████████████████████████▌                                                                | 8/21 [00:03<00:05,  2.32it/s]\u001b[A\n",
      " 43%|████████████████████████████████████████████▌                                                           | 9/21 [00:03<00:04,  2.43it/s]\u001b[A\n",
      " 48%|█████████████████████████████████████████████████                                                      | 10/21 [00:04<00:04,  2.36it/s]\u001b[A\n",
      " 52%|█████████████████████████████████████████████████████▉                                                 | 11/21 [00:05<00:05,  1.96it/s]\u001b[A\n",
      " 57%|██████████████████████████████████████████████████████████▊                                            | 12/21 [00:05<00:04,  1.86it/s]\u001b[A\n",
      " 62%|███████████████████████████████████████████████████████████████▊                                       | 13/21 [00:06<00:03,  2.03it/s]\u001b[A\n",
      " 67%|████████████████████████████████████████████████████████████████████▋                                  | 14/21 [00:06<00:03,  2.00it/s]\u001b[A\n",
      " 71%|█████████████████████████████████████████████████████████████████████████▌                             | 15/21 [00:07<00:03,  1.96it/s]\u001b[A\n",
      " 76%|██████████████████████████████████████████████████████████████████████████████▍                        | 16/21 [00:07<00:02,  2.12it/s]\u001b[A\n",
      " 81%|███████████████████████████████████████████████████████████████████████████████████▍                   | 17/21 [00:07<00:01,  2.19it/s]\u001b[A\n",
      " 86%|████████████████████████████████████████████████████████████████████████████████████████▎              | 18/21 [00:08<00:01,  2.28it/s]\u001b[A\n",
      " 90%|█████████████████████████████████████████████████████████████████████████████████████████████▏         | 19/21 [00:08<00:00,  2.24it/s]\u001b[A\n",
      " 95%|██████████████████████████████████████████████████████████████████████████████████████████████████     | 20/21 [00:09<00:00,  2.28it/s]\u001b[A\n",
      "100%|███████████████████████████████████████████████████████████████████████████████████████████████████████| 21/21 [00:09<00:00,  2.18it/s]\u001b[A\n",
      " 25%|██████████████████████████▎                                                                              | 1/4 [00:17<00:51, 17.13s/it]\n",
      "  0%|                                                                                                                 | 0/1 [00:00<?, ?it/s]\u001b[A\n",
      "100%|█████████████████████████████████████████████████████████████████████████████████████████████████████████| 1/1 [00:00<00:00,  2.50it/s]\u001b[A\n",
      " 50%|████████████████████████████████████████████████████▌                                                    | 2/4 [00:20<00:18,  9.09s/it]\n",
      "  0%|                                                                                                                | 0/27 [00:00<?, ?it/s]\u001b[A\n",
      "  4%|███▊                                                                                                    | 1/27 [00:00<00:09,  2.69it/s]\u001b[A\n",
      "  7%|███████▋                                                                                                | 2/27 [00:00<00:09,  2.64it/s]\u001b[A\n",
      " 11%|███████████▌                                                                                            | 3/27 [00:01<00:10,  2.23it/s]\u001b[A\n",
      " 15%|███████████████▍                                                                                        | 4/27 [00:02<00:19,  1.20it/s]\u001b[A\n",
      " 19%|███████████████████▎                                                                                    | 5/27 [00:03<00:15,  1.41it/s]\u001b[A\n",
      " 22%|███████████████████████                                                                                 | 6/27 [00:03<00:12,  1.68it/s]\u001b[A\n",
      " 26%|██████████████████████████▉                                                                             | 7/27 [00:03<00:10,  1.90it/s]\u001b[A\n",
      " 30%|██████████████████████████████▊                                                                         | 8/27 [00:04<00:09,  2.02it/s]\u001b[A\n",
      " 33%|██████████████████████████████████▋                                                                     | 9/27 [00:04<00:08,  2.15it/s]\u001b[A\n",
      " 37%|██████████████████████████████████████▏                                                                | 10/27 [00:05<00:07,  2.25it/s]\u001b[A\n",
      " 41%|█████████████████████████████████████████▉                                                             | 11/27 [00:05<00:07,  2.24it/s]\u001b[A\n",
      " 44%|█████████████████████████████████████████████▊                                                         | 12/27 [00:06<00:06,  2.35it/s]\u001b[A\n",
      " 48%|█████████████████████████████████████████████████▌                                                     | 13/27 [00:06<00:05,  2.45it/s]\u001b[A\n",
      " 52%|█████████████████████████████████████████████████████▍                                                 | 14/27 [00:06<00:05,  2.23it/s]\u001b[A\n",
      " 56%|█████████████████████████████████████████████████████████▏                                             | 15/27 [00:08<00:11,  1.07it/s]\u001b[A\n",
      " 59%|█████████████████████████████████████████████████████████████                                          | 16/27 [00:09<00:08,  1.31it/s]\u001b[A\n",
      " 63%|████████████████████████████████████████████████████████████████▊                                      | 17/27 [00:09<00:06,  1.54it/s]\u001b[A\n",
      " 67%|████████████████████████████████████████████████████████████████████▋                                  | 18/27 [00:10<00:05,  1.77it/s]\u001b[A\n",
      " 70%|████████████████████████████████████████████████████████████████████████▍                              | 19/27 [00:10<00:04,  1.82it/s]\u001b[A\n",
      " 74%|████████████████████████████████████████████████████████████████████████████▎                          | 20/27 [00:10<00:03,  2.00it/s]\u001b[A\n",
      " 78%|████████████████████████████████████████████████████████████████████████████████                       | 21/27 [00:11<00:02,  2.17it/s]\u001b[A\n",
      " 81%|███████████████████████████████████████████████████████████████████████████████████▉                   | 22/27 [00:11<00:02,  2.23it/s]\u001b[A\n",
      " 85%|███████████████████████████████████████████████████████████████████████████████████████▋               | 23/27 [00:12<00:01,  2.25it/s]\u001b[A\n",
      " 89%|███████████████████████████████████████████████████████████████████████████████████████████▌           | 24/27 [00:12<00:01,  2.34it/s]\u001b[A\n",
      " 93%|███████████████████████████████████████████████████████████████████████████████████████████████▎       | 25/27 [00:13<00:00,  2.36it/s]\u001b[A\n",
      " 96%|███████████████████████████████████████████████████████████████████████████████████████████████████▏   | 26/27 [00:13<00:00,  2.25it/s]\u001b[A\n",
      "100%|███████████████████████████████████████████████████████████████████████████████████████████████████████| 27/27 [00:14<00:00,  1.92it/s]\u001b[A\n",
      "100%|█████████████████████████████████████████████████████████████████████████████████████████████████████████| 4/4 [00:46<00:00, 11.65s/it]\n"
     ]
    }
   ],
   "source": [
    "found_characteristics_director = {}\n",
    "dfs_match_director = {}\n",
    "for query in tqdm(query_descs):\n",
    "    characteristics_list_str = find_info(\n",
    "        text_task,\n",
    "        query,\n",
    "        examples=ref_characteristics[query],\n",
    "        query_desc=query_descs[query]\n",
    "    )\n",
    "    characteristics_list = json.loads(characteristics_list_str)[query]\n",
    "    found_characteristics[query] = characteristics_list\n",
    "    if query != \"софт-скиллы\":\n",
    "        characteristics_embs = get_emb_list(characteristics_list)\n",
    "        df_sim_query = find_match_cosine(\n",
    "            query,\n",
    "            ref_characteristics_embs[query],\n",
    "            characteristics_embs,\n",
    "            ref_characteristics[query],\n",
    "            characteristics_list,\n",
    "        )\n",
    "        dfs_match[query] = df_sim_query"
   ]
  },
  {
   "cell_type": "code",
   "execution_count": 65,
   "id": "4becfa84-32cd-42e6-82d3-d86e57838624",
   "metadata": {},
   "outputs": [],
   "source": [
    "for key in dfs_match:\n",
    "    dfs_match[key].to_csv(f\"./save/match_results_director_{key}.csv\", index = False)"
   ]
  },
  {
   "cell_type": "code",
   "execution_count": 66,
   "id": "44ddabc6-d694-4d6a-8025-77c490d7ead3",
   "metadata": {},
   "outputs": [
    {
     "data": {
      "text/html": [
       "<div>\n",
       "<style scoped>\n",
       "    .dataframe tbody tr th:only-of-type {\n",
       "        vertical-align: middle;\n",
       "    }\n",
       "\n",
       "    .dataframe tbody tr th {\n",
       "        vertical-align: top;\n",
       "    }\n",
       "\n",
       "    .dataframe thead th {\n",
       "        text-align: right;\n",
       "    }\n",
       "</style>\n",
       "<table border=\"1\" class=\"dataframe\">\n",
       "  <thead>\n",
       "    <tr style=\"text-align: right;\">\n",
       "      <th></th>\n",
       "      <th>Найденные должности</th>\n",
       "      <th>Существующие должности</th>\n",
       "      <th>cosine_sim</th>\n",
       "    </tr>\n",
       "  </thead>\n",
       "  <tbody>\n",
       "    <tr>\n",
       "      <th>0</th>\n",
       "      <td>Директор по маркетингу</td>\n",
       "      <td>Директор по маркетингу</td>\n",
       "      <td>1.0</td>\n",
       "    </tr>\n",
       "  </tbody>\n",
       "</table>\n",
       "</div>"
      ],
      "text/plain": [
       "      Найденные должности  Существующие должности cosine_sim\n",
       "0  Директор по маркетингу  Директор по маркетингу        1.0"
      ]
     },
     "execution_count": 66,
     "metadata": {},
     "output_type": "execute_result"
    }
   ],
   "source": [
    "dfs_match[\"должности\"]"
   ]
  },
  {
   "cell_type": "code",
   "execution_count": 108,
   "id": "a056eeb9-0516-47af-8a86-5686addc84dd",
   "metadata": {},
   "outputs": [],
   "source": [
    "desc = \"Soft Skills — это совокупность умений, которые показывают, каким характером обладает человек \"\\\n",
    "\"и как успешно он взаимодействует с другими людьми.\"\n",
    "characteristics_list_str = find_info(\n",
    "    text_task,\n",
    "    \"Soft Skills\",\n",
    "    examples=None,\n",
    "    query_desc=desc,\n",
    ")"
   ]
  },
  {
   "cell_type": "code",
   "execution_count": 109,
   "id": "9d373116-9021-445f-ad4d-361aed6faf1d",
   "metadata": {},
   "outputs": [
    {
     "data": {
      "text/plain": [
       "['Системное мышление',\n",
       " 'Стратегическое мышление',\n",
       " 'Этика делового общения',\n",
       " 'Коммуникационные навыки',\n",
       " 'Организационные способности',\n",
       " 'Умение планировать и координировать',\n",
       " 'Способность к аналитическому мышлению',\n",
       " 'Навыки взаимодействия с различными подразделениями']"
      ]
     },
     "execution_count": 109,
     "metadata": {},
     "output_type": "execute_result"
    }
   ],
   "source": [
    "characteristics_list = json.loads(characteristics_list_str)[\"Soft Skills\"]\n",
    "characteristics_list"
   ]
  },
  {
   "cell_type": "code",
   "execution_count": 2,
   "id": "d9884296-54d7-4cb6-888d-c0cb4ac171cb",
   "metadata": {},
   "outputs": [],
   "source": [
    "df_ = pd.read_csv(\"./save/match_results_director_знания_ext.csv\")"
   ]
  },
  {
   "cell_type": "code",
   "execution_count": 3,
   "id": "a2d42bf3-3349-4d20-a79a-63a997ade681",
   "metadata": {},
   "outputs": [
    {
     "data": {
      "text/html": [
       "<div>\n",
       "<style scoped>\n",
       "    .dataframe tbody tr th:only-of-type {\n",
       "        vertical-align: middle;\n",
       "    }\n",
       "\n",
       "    .dataframe tbody tr th {\n",
       "        vertical-align: top;\n",
       "    }\n",
       "\n",
       "    .dataframe thead th {\n",
       "        text-align: right;\n",
       "    }\n",
       "</style>\n",
       "<table border=\"1\" class=\"dataframe\">\n",
       "  <thead>\n",
       "    <tr style=\"text-align: right;\">\n",
       "      <th></th>\n",
       "      <th>proportion</th>\n",
       "    </tr>\n",
       "    <tr>\n",
       "      <th>Соответствие</th>\n",
       "      <th></th>\n",
       "    </tr>\n",
       "  </thead>\n",
       "  <tbody>\n",
       "    <tr>\n",
       "      <th>Идеально</th>\n",
       "      <td>0.857</td>\n",
       "    </tr>\n",
       "    <tr>\n",
       "      <th>Хорошо</th>\n",
       "      <td>0.143</td>\n",
       "    </tr>\n",
       "  </tbody>\n",
       "</table>\n",
       "</div>"
      ],
      "text/plain": [
       "              proportion\n",
       "Соответствие            \n",
       "Идеально           0.857\n",
       "Хорошо             0.143"
      ]
     },
     "execution_count": 3,
     "metadata": {},
     "output_type": "execute_result"
    }
   ],
   "source": [
    "df_[\"Соответствие\"].value_counts(normalize=True).round(3).to_frame()"
   ]
  },
  {
   "cell_type": "code",
   "execution_count": null,
   "id": "e433a6eb-1f11-49f2-b445-450f24286316",
   "metadata": {},
   "outputs": [],
   "source": []
  },
  {
   "cell_type": "code",
   "execution_count": 4,
   "id": "b940c82c-8e39-48e2-b6d0-9f2bbf76ac9b",
   "metadata": {},
   "outputs": [],
   "source": [
    "df_ = pd.read_csv(\"./save/match_results_director_навыки_ext.csv\")"
   ]
  },
  {
   "cell_type": "code",
   "execution_count": 5,
   "id": "11c1fe02-6344-49ca-9bb8-c4af870cba38",
   "metadata": {},
   "outputs": [
    {
     "data": {
      "text/html": [
       "<div>\n",
       "<style scoped>\n",
       "    .dataframe tbody tr th:only-of-type {\n",
       "        vertical-align: middle;\n",
       "    }\n",
       "\n",
       "    .dataframe tbody tr th {\n",
       "        vertical-align: top;\n",
       "    }\n",
       "\n",
       "    .dataframe thead th {\n",
       "        text-align: right;\n",
       "    }\n",
       "</style>\n",
       "<table border=\"1\" class=\"dataframe\">\n",
       "  <thead>\n",
       "    <tr style=\"text-align: right;\">\n",
       "      <th></th>\n",
       "      <th>proportion</th>\n",
       "    </tr>\n",
       "    <tr>\n",
       "      <th>Соответствие</th>\n",
       "      <th></th>\n",
       "    </tr>\n",
       "  </thead>\n",
       "  <tbody>\n",
       "    <tr>\n",
       "      <th>Идеально</th>\n",
       "      <td>0.519</td>\n",
       "    </tr>\n",
       "    <tr>\n",
       "      <th>Хорошо</th>\n",
       "      <td>0.333</td>\n",
       "    </tr>\n",
       "    <tr>\n",
       "      <th>Норм</th>\n",
       "      <td>0.111</td>\n",
       "    </tr>\n",
       "    <tr>\n",
       "      <th>Не соответствует</th>\n",
       "      <td>0.037</td>\n",
       "    </tr>\n",
       "  </tbody>\n",
       "</table>\n",
       "</div>"
      ],
      "text/plain": [
       "                  proportion\n",
       "Соответствие                \n",
       "Идеально               0.519\n",
       "Хорошо                 0.333\n",
       "Норм                   0.111\n",
       "Не соответствует       0.037"
      ]
     },
     "execution_count": 5,
     "metadata": {},
     "output_type": "execute_result"
    }
   ],
   "source": [
    "df_[\"Соответствие\"].value_counts(normalize=True).round(3).to_frame()"
   ]
  },
  {
   "cell_type": "code",
   "execution_count": null,
   "id": "295d0bde-eec6-4f6a-83d6-fda37d4a6037",
   "metadata": {},
   "outputs": [],
   "source": []
  }
 ],
 "metadata": {
  "kernelspec": {
   "display_name": "envUW",
   "language": "python",
   "name": "envuw"
  },
  "language_info": {
   "codemirror_mode": {
    "name": "ipython",
    "version": 3
   },
   "file_extension": ".py",
   "mimetype": "text/x-python",
   "name": "python",
   "nbconvert_exporter": "python",
   "pygments_lexer": "ipython3",
   "version": "3.9.6"
  }
 },
 "nbformat": 4,
 "nbformat_minor": 5
}
